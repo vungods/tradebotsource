{
 "cells": [
  {
   "cell_type": "markdown",
   "metadata": {},
   "source": [
    "### test 2"
   ]
  },
  {
   "cell_type": "markdown",
   "metadata": {},
   "source": [
    "#### Lưu ý\n",
    "- trong spark streaming dùng readStream để xử lý dữ liệu\n",
    "- và dùng writeStreaming để ghi dữ liệu ra màn hình hoặc lưu dữ liệu\n"
   ]
  },
  {
   "cell_type": "code",
   "execution_count": 13,
   "metadata": {},
   "outputs": [],
   "source": [
    "import numpy as np\n",
    "from pyspark.sql import SparkSession\n",
    "\n",
    "# Spark session & context\n",
    "spark = (SparkSession\n",
    "         .builder\n",
    "         .master('local')\n",
    "         .appName('kafka-streaming')\n",
    "         .config(\"spark.jars.packages\", \"org.apache.spark:spark-sql-kafka-0-10_2.11:2.4.5\")\n",
    "         .getOrCreate())\n",
    "sc = spark.sparkContext\n",
    "\n",
    "# Khởi tạo Kafka consumer\n",
    "kafka_bootstrap_servers = 'kafka1:19091,kafka2:19092,kafka3:19093' # Địa chỉ Kafka của các container Kafka\n",
    "kafka_topic = 'USDCHF_i30'  # Tên topic Kafka\n",
    "\n",
    "# Subscribe to 1 topic\n",
    "df = spark \\\n",
    "  .readStream \\\n",
    "  .format(\"kafka\") \\\n",
    "  .option(\"kafka.bootstrap.servers\", kafka_bootstrap_servers) \\\n",
    "  .option(\"subscribe\", kafka_topic) \\\n",
    "  .load()"
   ]
  },
  {
   "cell_type": "code",
   "execution_count": 14,
   "metadata": {},
   "outputs": [
    {
     "name": "stdout",
     "output_type": "stream",
     "text": [
      "root\n",
      " |-- key: binary (nullable = true)\n",
      " |-- value: binary (nullable = true)\n",
      " |-- topic: string (nullable = true)\n",
      " |-- partition: integer (nullable = true)\n",
      " |-- offset: long (nullable = true)\n",
      " |-- timestamp: timestamp (nullable = true)\n",
      " |-- timestampType: integer (nullable = true)\n",
      "\n"
     ]
    }
   ],
   "source": [
    "df.printSchema()\n"
   ]
  },
  {
   "cell_type": "code",
   "execution_count": null,
   "metadata": {},
   "outputs": [
    {
     "name": "stdout",
     "output_type": "stream",
     "text": [
      "Batch 0 is empty, skipping.\n",
      "\"[{\\\"Date\\\":\\\"202312230030\\\",\\\"Open\\\":0.85624,\\\"High\\\":0.8564,\\\"Low\\\":0.85575,\\\"Close\\\":0.85594,\\\"Volume\\\":4511,\\\"EMA\\\":0.85594,\\\"RSI\\\":null,\\\"Turbulence\\\":null},{\\\"Date\\\":\\\"202312230100\\\",\\\"Open\\\":0.85595,\\\"High\\\":0.85622,\\\"Low\\\":0.8556,\\\"Close\\\":0.85566,\\\"Volume\\\":4356,\\\"EMA\\\":0.8558,\\\"RSI\\\":null,\\\"Turbulence\\\":null},{\\\"Date\\\":\\\"202312230130\\\",\\\"Open\\\":0.85565,\\\"High\\\":0.85627,\\\"Low\\\":0.85555,\\\"Close\\\":0.85611,\\\"Volume\\\":2997,\\\"EMA\\\":0.8559033333,\\\"RSI\\\":0.0,\\\"Turbulence\\\":1.5657364441},{\\\"Date\\\":\\\"202312230200\\\",\\\"Open\\\":0.8561,\\\"High\\\":0.85712,\\\"Low\\\":0.85582,\\\"Close\\\":0.85709,\\\"Volume\\\":3680,\\\"EMA\\\":0.8562,\\\"RSI\\\":61.6438356164,\\\"Turbulence\\\":5.2223221866},{\\\"Date\\\":\\\"202312230230\\\",\\\"Open\\\":0.85708,\\\"High\\\":0.85733,\\\"Low\\\":0.85601,\\\"Close\\\":0.85602,\\\"Volume\\\":3229,\\\"EMA\\\":0.856164,\\\"RSI\\\":83.6257309941,\\\"Turbulence\\\":-0.2895452765},{\\\"Date\\\":\\\"202312230300\\\",\\\"Open\\\":0.85603,\\\"High\\\":0.85605,\\\"Low\\\":0.85567,\\\"Close\\\":0.85585,\\\"Volume\\\":2292,\\\"EMA\\\":0.8561116667,\\\"RSI\\\":51.4388489209,\\\"Turbulence\\\":-0.5768220286},{\\\"Date\\\":\\\"202312230330\\\",\\\"Open\\\":0.85585,\\\"High\\\":0.85596,\\\"Low\\\":0.85543,\\\"Close\\\":0.85549,\\\"Volume\\\":1797,\\\"EMA\\\":0.8560228571,\\\"RSI\\\":48.4745762712,\\\"Turbulence\\\":-1.2347284496},{\\\"Date\\\":\\\"202312230400\\\",\\\"Open\\\":0.8555,\\\"High\\\":0.8558,\\\"Low\\\":0.85524,\\\"Close\\\":0.85559,\\\"Volume\\\":1247,\\\"EMA\\\":0.85596875,\\\"RSI\\\":43.2024169184,\\\"Turbulence\\\":-0.8385537494},{\\\"Date\\\":\\\"202312230430\\\",\\\"Open\\\":0.85558,\\\"High\\\":0.85586,\\\"Low\\\":0.85542,\\\"Close\\\":0.85574,\\\"Volume\\\":1092,\\\"EMA\\\":0.8559433333,\\\"RSI\\\":44.8680351906,\\\"Turbulence\\\":-0.4558505261},{\\\"Date\\\":\\\"202312230500\\\",\\\"Open\\\":0.85574,\\\"High\\\":0.85592,\\\"Low\\\":0.85525,\\\"Close\\\":0.85525,\\\"Volume\\\":398,\\\"EMA\\\":0.855874,\\\"RSI\\\":47.191011236,\\\"Turbulence\\\":-1.457953874}]\"\n",
      "Batch 1 successfully sent. Response: {\"message\":\"JSON parsed and received successfully\"}\n",
      "\"[{\\\"Date\\\":\\\"202312230030\\\",\\\"Open\\\":0.85624,\\\"High\\\":0.8564,\\\"Low\\\":0.85575,\\\"Close\\\":0.85594,\\\"Volume\\\":4511,\\\"EMA\\\":0.85594,\\\"RSI\\\":null,\\\"Turbulence\\\":null},{\\\"Date\\\":\\\"202312230100\\\",\\\"Open\\\":0.85595,\\\"High\\\":0.85622,\\\"Low\\\":0.8556,\\\"Close\\\":0.85566,\\\"Volume\\\":4356,\\\"EMA\\\":0.8558,\\\"RSI\\\":null,\\\"Turbulence\\\":null},{\\\"Date\\\":\\\"202312230130\\\",\\\"Open\\\":0.85565,\\\"High\\\":0.85627,\\\"Low\\\":0.85555,\\\"Close\\\":0.85611,\\\"Volume\\\":2997,\\\"EMA\\\":0.8559033333,\\\"RSI\\\":0.0,\\\"Turbulence\\\":1.5657364441},{\\\"Date\\\":\\\"202312230200\\\",\\\"Open\\\":0.8561,\\\"High\\\":0.85712,\\\"Low\\\":0.85582,\\\"Close\\\":0.85709,\\\"Volume\\\":3680,\\\"EMA\\\":0.8562,\\\"RSI\\\":61.6438356164,\\\"Turbulence\\\":5.2223221866},{\\\"Date\\\":\\\"202312230230\\\",\\\"Open\\\":0.85708,\\\"High\\\":0.85733,\\\"Low\\\":0.85601,\\\"Close\\\":0.85602,\\\"Volume\\\":3229,\\\"EMA\\\":0.856164,\\\"RSI\\\":83.6257309941,\\\"Turbulence\\\":-0.2895452765},{\\\"Date\\\":\\\"202312230300\\\",\\\"Open\\\":0.85603,\\\"High\\\":0.85605,\\\"Low\\\":0.85567,\\\"Close\\\":0.85585,\\\"Volume\\\":2292,\\\"EMA\\\":0.8561116667,\\\"RSI\\\":51.4388489209,\\\"Turbulence\\\":-0.5768220286},{\\\"Date\\\":\\\"202312230330\\\",\\\"Open\\\":0.85585,\\\"High\\\":0.85596,\\\"Low\\\":0.85543,\\\"Close\\\":0.85549,\\\"Volume\\\":1797,\\\"EMA\\\":0.8560228571,\\\"RSI\\\":48.4745762712,\\\"Turbulence\\\":-1.2347284496},{\\\"Date\\\":\\\"202312230400\\\",\\\"Open\\\":0.8555,\\\"High\\\":0.8558,\\\"Low\\\":0.85524,\\\"Close\\\":0.85559,\\\"Volume\\\":1247,\\\"EMA\\\":0.85596875,\\\"RSI\\\":43.2024169184,\\\"Turbulence\\\":-0.8385537494},{\\\"Date\\\":\\\"202312230430\\\",\\\"Open\\\":0.85558,\\\"High\\\":0.85586,\\\"Low\\\":0.85542,\\\"Close\\\":0.85574,\\\"Volume\\\":1092,\\\"EMA\\\":0.8559433333,\\\"RSI\\\":44.8680351906,\\\"Turbulence\\\":-0.4558505261},{\\\"Date\\\":\\\"202312230500\\\",\\\"Open\\\":0.85574,\\\"High\\\":0.85592,\\\"Low\\\":0.85525,\\\"Close\\\":0.85525,\\\"Volume\\\":398,\\\"EMA\\\":0.855874,\\\"RSI\\\":47.191011236,\\\"Turbulence\\\":-1.457953874}]\"\n",
      "Batch 2 successfully sent. Response: {\"message\":\"JSON parsed and received successfully\"}\n",
      "\"[{\\\"Date\\\":\\\"202312230030\\\",\\\"Open\\\":0.85624,\\\"High\\\":0.8564,\\\"Low\\\":0.85575,\\\"Close\\\":0.85594,\\\"Volume\\\":4511,\\\"EMA\\\":0.85594,\\\"RSI\\\":null,\\\"Turbulence\\\":null},{\\\"Date\\\":\\\"202312230100\\\",\\\"Open\\\":0.85595,\\\"High\\\":0.85622,\\\"Low\\\":0.8556,\\\"Close\\\":0.85566,\\\"Volume\\\":4356,\\\"EMA\\\":0.8558,\\\"RSI\\\":null,\\\"Turbulence\\\":null},{\\\"Date\\\":\\\"202312230130\\\",\\\"Open\\\":0.85565,\\\"High\\\":0.85627,\\\"Low\\\":0.85555,\\\"Close\\\":0.85611,\\\"Volume\\\":2997,\\\"EMA\\\":0.8559033333,\\\"RSI\\\":0.0,\\\"Turbulence\\\":1.5657364441},{\\\"Date\\\":\\\"202312230200\\\",\\\"Open\\\":0.8561,\\\"High\\\":0.85712,\\\"Low\\\":0.85582,\\\"Close\\\":0.85709,\\\"Volume\\\":3680,\\\"EMA\\\":0.8562,\\\"RSI\\\":61.6438356164,\\\"Turbulence\\\":5.2223221866},{\\\"Date\\\":\\\"202312230230\\\",\\\"Open\\\":0.85708,\\\"High\\\":0.85733,\\\"Low\\\":0.85601,\\\"Close\\\":0.85602,\\\"Volume\\\":3229,\\\"EMA\\\":0.856164,\\\"RSI\\\":83.6257309941,\\\"Turbulence\\\":-0.2895452765},{\\\"Date\\\":\\\"202312230300\\\",\\\"Open\\\":0.85603,\\\"High\\\":0.85605,\\\"Low\\\":0.85567,\\\"Close\\\":0.85585,\\\"Volume\\\":2292,\\\"EMA\\\":0.8561116667,\\\"RSI\\\":51.4388489209,\\\"Turbulence\\\":-0.5768220286},{\\\"Date\\\":\\\"202312230330\\\",\\\"Open\\\":0.85585,\\\"High\\\":0.85596,\\\"Low\\\":0.85543,\\\"Close\\\":0.85549,\\\"Volume\\\":1797,\\\"EMA\\\":0.8560228571,\\\"RSI\\\":48.4745762712,\\\"Turbulence\\\":-1.2347284496},{\\\"Date\\\":\\\"202312230400\\\",\\\"Open\\\":0.8555,\\\"High\\\":0.8558,\\\"Low\\\":0.85524,\\\"Close\\\":0.85559,\\\"Volume\\\":1247,\\\"EMA\\\":0.85596875,\\\"RSI\\\":43.2024169184,\\\"Turbulence\\\":-0.8385537494},{\\\"Date\\\":\\\"202312230430\\\",\\\"Open\\\":0.85558,\\\"High\\\":0.85586,\\\"Low\\\":0.85542,\\\"Close\\\":0.85574,\\\"Volume\\\":1092,\\\"EMA\\\":0.8559433333,\\\"RSI\\\":44.8680351906,\\\"Turbulence\\\":-0.4558505261},{\\\"Date\\\":\\\"202312230500\\\",\\\"Open\\\":0.85574,\\\"High\\\":0.85592,\\\"Low\\\":0.85525,\\\"Close\\\":0.85525,\\\"Volume\\\":398,\\\"EMA\\\":0.855874,\\\"RSI\\\":47.191011236,\\\"Turbulence\\\":-1.457953874}]\"\n",
      "Batch 3 successfully sent. Response: {\"message\":\"JSON parsed and received successfully\"}\n"
     ]
    }
   ],
   "source": [
    "from pyspark.sql import SparkSession\n",
    "from pyspark.sql.functions import from_json, col, explode, arrays_zip, lag, when, avg, pow, sqrt, mean, stddev\n",
    "from pyspark.sql.types import StructType, StructField, StringType, DoubleType, IntegerType, ArrayType\n",
    "from pyspark.sql.window import Window\n",
    "import pandas as pd\n",
    "# Tạo SparkSession\n",
    "spark = SparkSession.builder.appName(\"jsonStreaming\").getOrCreate()\n",
    "\n",
    "# Định nghĩa schema cho dữ liệu JSON\n",
    "jsonSchema = StructType([\n",
    "    StructField(\"date\", ArrayType(StringType())),\n",
    "    StructField(\"open\", ArrayType(DoubleType())),\n",
    "    StructField(\"high\", ArrayType(DoubleType())),\n",
    "    StructField(\"low\", ArrayType(DoubleType())),\n",
    "    StructField(\"close\", ArrayType(DoubleType())),\n",
    "    StructField(\"volume\", ArrayType(IntegerType()))\n",
    "])\n",
    "\n",
    "# Đọc dữ liệu từ nguồn (ví dụ: Kafka, file, ...)\n",
    "\n",
    "# Hàm tính EMA\n",
    "def calculate_ema(column, period):\n",
    "    alpha = 1 - (2 / (period + 1))  # Smoothing factor for EMA\n",
    "    window = Window.orderBy('Date').rowsBetween(Window.unboundedPreceding, 0)\n",
    "    ema = avg(column).over(window)\n",
    "    return ema\n",
    "\n",
    "# Hàm tính RSI\n",
    "def calculate_rsi(df, column, period):\n",
    "    window = Window.orderBy('Date')\n",
    "    daily_change = col(column) - lag(column, 1).over(window)\n",
    "    gain = when(daily_change > 0, daily_change).otherwise(0)\n",
    "    loss = when(daily_change < 0, -daily_change).otherwise(0)\n",
    "    avg_gain = avg(gain).over(Window.orderBy('Date').rowsBetween(-period, -1))\n",
    "    avg_loss = avg(loss).over(Window.orderBy('Date').rowsBetween(-period, -1))\n",
    "    rs = avg_gain / avg_loss\n",
    "    rsi = 100 - (100 / (1 + rs))\n",
    "    return rsi\n",
    "\n",
    "# Hàm tính Turbulence\n",
    "def calculate_turbulence(df, window_period):\n",
    "    windowSpec = Window.orderBy('Date').rowsBetween(-window_period, -1)\n",
    "    mean_close = mean('Close').over(windowSpec)\n",
    "    stddev_close = stddev('Close').over(windowSpec)\n",
    "    turbulence = (col('Close') - mean_close) / stddev_close\n",
    "    return df.withColumn('Turbulence', turbulence)\n",
    "import requests\n",
    "\n",
    "# Hàm xử lý từng batch\n",
    "import requests\n",
    "import json\n",
    "def write_to_pandas(df, epoch_id):\n",
    "    # Check if the DataFrame is empty\n",
    "    if df.rdd.isEmpty():\n",
    "        print(f\"Batch {epoch_id} is empty, skipping.\")\n",
    "        return\n",
    "\n",
    "    # Existing processing code\n",
    "    df = df.withColumn('EMA', calculate_ema('Close', 12))\n",
    "    df = df.withColumn('RSI', calculate_rsi(df, 'Close', 14))\n",
    "    df = calculate_turbulence(df, 20)\n",
    "\n",
    "    # Convert to Pandas DataFrame\n",
    "    pandas_df = df.toPandas()\n",
    "\n",
    "    # Handle NaN values for JSON conversion\n",
    "    pandas_df = pandas_df.where(pd.notnull(pandas_df), None)\n",
    "\n",
    "    # Convert the DataFrame to a JSON string\n",
    "    json_payload = json.dumps(pandas_df.to_json(orient='records'))\n",
    "#     print(json_payload)\n",
    "    # Define the URL of your FastAPI endpoint\n",
    "    url = 'http://host.docker.internal:8000/api/sparkreceive/predictions_values'\n",
    "\n",
    "    # Make a POST request to the FastAPI endpoint\n",
    "    try:\n",
    "        headers = {'Content-Type': 'application/json'}\n",
    "        response = requests.post(url, data=json_payload, headers=headers)\n",
    "        response.raise_for_status()  # Raise an exception for HTTP errors\n",
    "        print(f\"Batch {epoch_id} successfully sent. Response: {response.text}\")\n",
    "    except requests.RequestException as e:\n",
    "        print(f\"Error sending batch {epoch_id}: {e}\")\n",
    "\n",
    "# Rest of your Spark streaming code\n",
    "\n",
    "    \n",
    "# Chuyển đổi và phân tích cú pháp JSON\n",
    "df_parsed = df.selectExpr(\"CAST(value AS STRING)\") \\\n",
    "              .select(from_json(col(\"value\"), jsonSchema).alias(\"data\")) \\\n",
    "              .select(\"data.*\")\n",
    "\n",
    "# Kết hợp các mảng thành dòng riêng biệt\n",
    "df_exploded = df_parsed.select(\n",
    "    explode(arrays_zip(\"date\", \"open\", \"high\", \"low\", \"close\", \"volume\")).alias(\"data\")\n",
    ").select(\n",
    "    col(\"data.date\").alias(\"Date\"),\n",
    "    col(\"data.open\").alias(\"Open\"),\n",
    "    col(\"data.high\").alias(\"High\"),\n",
    "    col(\"data.low\").alias(\"Low\"),\n",
    "    col(\"data.close\").alias(\"Close\"),\n",
    "    col(\"data.volume\").alias(\"Volume\")\n",
    ")\n",
    "\n",
    "# Áp dụng hàm xử lý cho từng batch\n",
    "query = df_exploded.writeStream \\\n",
    "                   .outputMode(\"append\") \\\n",
    "                   .foreachBatch(write_to_pandas) \\\n",
    "                   .start()\n",
    "\n",
    "query.awaitTermination()\n"
   ]
  },
  {
   "cell_type": "code",
   "execution_count": 12,
   "metadata": {},
   "outputs": [],
   "source": [
    "spark.stop()"
   ]
  },
  {
   "cell_type": "code",
   "execution_count": 39,
   "metadata": {},
   "outputs": [
    {
     "name": "stdout",
     "output_type": "stream",
     "text": [
      "Error sending request: HTTPConnectionPool(host='host.docker.internal', port=8000): Max retries exceeded with url: /api/predictions_values (Caused by NewConnectionError('<urllib3.connection.HTTPConnection object at 0x7feb7a190d90>: Failed to establish a new connection: [Errno -3] Temporary failure in name resolution'))\n"
     ]
    }
   ],
   "source": [
    "import requests\n",
    "\n",
    "# Define the URL of your FastAPI endpoint\n",
    "url = 'http://host.docker.internal:8000/api/predictions_values'\n",
    "\n",
    "# Sample JSON payload as a string\n",
    "sample_payload = json.dumps([\n",
    "    {\n",
    "        \"Date\": \"2023-01-01\",\n",
    "        \"Open\": 100.5,\n",
    "        \"High\": 110.2,\n",
    "        \"Low\": 99.8,\n",
    "        \"Close\": 105.3,\n",
    "        \"Volume\": 5000,\n",
    "        \"EMA\": 104.7,\n",
    "        \"RSI\": 60.5,\n",
    "        \"Turbulence\": 0.3\n",
    "    },\n",
    "    {\n",
    "        \"Date\": \"2023-01-02\",\n",
    "        \"Open\": 105.4,\n",
    "        \"High\": 115.2,\n",
    "        \"Low\": 104.8,\n",
    "        \"Close\": 110.3,\n",
    "        \"Volume\": 6000,\n",
    "        \"EMA\": 109.7,\n",
    "        \"RSI\": 65.5,\n",
    "        \"Turbulence\": 0.4\n",
    "    }\n",
    "])\n",
    "\n",
    "\n",
    "# Make a POST request to the FastAPI endpoint\n",
    "try:\n",
    "    headers = {'Content-Type': 'text/plain'}\n",
    "    response = requests.post(url, data=sample_payload, headers=headers)\n",
    "    response.raise_for_status()  # Raise an exception for HTTP errors\n",
    "    print(f\"Request successfully sent. Response: {response.text}\")\n",
    "except requests.RequestException as e:\n",
    "    print(f\"Error sending request: {e}\")\n"
   ]
  },
  {
   "cell_type": "code",
   "execution_count": 38,
   "metadata": {},
   "outputs": [
    {
     "data": {
      "text/plain": [
       "\"HTTPConnectionPool(host='host.docker.internal', port=8000): Max retries exceeded with url: /api/models/?skip=0&limit=10 (Caused by NewConnectionError('<urllib3.connection.HTTPConnection object at 0x7feb93473ad0>: Failed to establish a new connection: [Errno -3] Temporary failure in name resolution'))\""
      ]
     },
     "execution_count": 38,
     "metadata": {},
     "output_type": "execute_result"
    }
   ],
   "source": [
    "import requests\n",
    "\n",
    "# Define the URL for the FastAPI endpoint\n",
    "url = \"http://host.docker.internal:8000/api/models/\"\n",
    "\n",
    "# Set the parameters for the request\n",
    "params = {\n",
    "    \"skip\": 0,\n",
    "    \"limit\": 10\n",
    "}\n",
    "\n",
    "# Attempt to send a GET request to the FastAPI endpoint\n",
    "try:\n",
    "    response = requests.get(url, params=params)\n",
    "    if response.status_code == 200:\n",
    "        # If the request is successful, print the response content\n",
    "        result = response.json()\n",
    "    else:\n",
    "        # If the request fails, print the status code\n",
    "        result = f\"Request failed with status code: {response.status_code}\"\n",
    "except requests.RequestException as e:\n",
    "    # If there is an error in sending the request, print the error\n",
    "    result = str(e)\n",
    "\n",
    "result\n",
    "\n"
   ]
  },
  {
   "cell_type": "code",
   "execution_count": 28,
   "metadata": {},
   "outputs": [],
   "source": [
    "spark.stop()"
   ]
  },
  {
   "cell_type": "code",
   "execution_count": 29,
   "metadata": {},
   "outputs": [
    {
     "data": {
      "text/plain": [
       "[]"
      ]
     },
     "execution_count": 29,
     "metadata": {},
     "output_type": "execute_result"
    }
   ],
   "source": [
    "last_df"
   ]
  },
  {
   "cell_type": "code",
   "execution_count": null,
   "metadata": {},
   "outputs": [],
   "source": []
  }
 ],
 "metadata": {
  "kernelspec": {
   "display_name": "Python 3",
   "language": "python",
   "name": "python3"
  },
  "language_info": {
   "codemirror_mode": {
    "name": "ipython",
    "version": 3
   },
   "file_extension": ".py",
   "mimetype": "text/x-python",
   "name": "python",
   "nbconvert_exporter": "python",
   "pygments_lexer": "ipython3",
   "version": "3.7.6"
  }
 },
 "nbformat": 4,
 "nbformat_minor": 4
}
